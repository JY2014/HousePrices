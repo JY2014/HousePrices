{
 "cells": [
  {
   "cell_type": "markdown",
   "metadata": {},
   "source": [
    "## Predicting House Prices\n",
    "- Lasso\n",
    "- Ridge\n",
    "- Random Forest\n",
    "- Ensemble using linear regression\n",
    "\n",
    "(KNN does not perform well on this dataset.)"
   ]
  },
  {
   "cell_type": "code",
   "execution_count": 2,
   "metadata": {
    "collapsed": false
   },
   "outputs": [],
   "source": [
    "import numpy as np\n",
    "import pandas as pd\n",
    "from sklearn import preprocessing\n",
    "from sklearn.cross_validation import train_test_split\n",
    "import matplotlib\n",
    "import matplotlib.pyplot as plt\n",
    "from sklearn.linear_model import LinearRegression\n",
    "from sklearn.linear_model import Ridge as Ridge_Reg\n",
    "from sklearn.linear_model import Lasso as Lasso_Reg\n",
    "from sklearn.ensemble import RandomForestRegressor\n",
    "from sklearn.model_selection import GridSearchCV\n",
    "from sklearn.model_selection import StratifiedKFold\n",
    "from sklearn.model_selection import cross_val_predict\n",
    "from sklearn.preprocessing import StandardScaler as Standardize\n",
    "from sklearn.decomposition import PCA\n",
    "from sklearn.metrics import r2_score\n",
    "import warnings\n",
    "warnings.filterwarnings(\"ignore\")"
   ]
  },
  {
   "cell_type": "code",
   "execution_count": 3,
   "metadata": {
    "collapsed": true
   },
   "outputs": [],
   "source": [
    "# read the data\n",
    "x_train = np.loadtxt('data/x_train_cleaned.txt', delimiter=',')\n",
    "x_test = np.loadtxt('data/x_test_cleaned.txt', delimiter=',')\n",
    "y_train_log = np.loadtxt('data/y_train_log.txt', delimiter=',')"
   ]
  },
  {
   "cell_type": "code",
   "execution_count": 4,
   "metadata": {
    "collapsed": true
   },
   "outputs": [],
   "source": [
    "# due to the high correlation among features\n",
    "# apply PCA to the features\n",
    "pca = PCA()\n",
    "x_train_pca = pca.fit_transform(x_train)\n",
    "x_test_pca = pca.transform(x_test)"
   ]
  },
  {
   "cell_type": "code",
   "execution_count": 5,
   "metadata": {
    "collapsed": true
   },
   "outputs": [],
   "source": [
    "# Standardize predictors for lasso and ridge\n",
    "std = Standardize(with_mean=False)\n",
    "x_train_std = std.fit_transform(x_train_pca)\n",
    "x_test_std = std.transform(x_test_pca)"
   ]
  },
  {
   "cell_type": "code",
   "execution_count": 7,
   "metadata": {
    "collapsed": true
   },
   "outputs": [],
   "source": [
    "n = x_train_std.shape[0]"
   ]
  },
  {
   "cell_type": "markdown",
   "metadata": {},
   "source": [
    "### Lasso regression\n",
    "Tune regularization parameter (alpha)"
   ]
  },
  {
   "cell_type": "code",
   "execution_count": 8,
   "metadata": {
    "collapsed": false
   },
   "outputs": [
    {
     "name": "stdout",
     "output_type": "stream",
     "text": [
      "The R-squared of the best lasso model is  0.872303079928\n",
      "The best alpha is  0.001\n",
      "The model yield of RMSLE of  0.142752098516\n"
     ]
    }
   ],
   "source": [
    "## Lasso regression\n",
    "# parameters\n",
    "param = np.power(10.0, range(-4, 5, 1))\n",
    "# tune lasso regression\n",
    "model = Lasso_Reg()\n",
    "grid_model = GridSearchCV(model, param_grid = {'alpha': param}, cv  = 5)\n",
    "grid_model.fit(x_train_std, y_train_log)\n",
    "# best model\n",
    "lasso = grid_model.best_estimator_\n",
    "print \"The R-squared of the best lasso model is \", grid_model.best_score_\n",
    "print \"The best alpha is \", lasso.get_params()['alpha']\n",
    "\n",
    "## Prediction\n",
    "# training\n",
    "y_pred_train_lasso = cross_val_predict(lasso, x_train_std, y_train_log, cv = 5)\n",
    "rmse = np.sqrt(np.sum((y_pred_train_lasso - y_train_log)**2)/n)\n",
    "print \"The model yield of RMSLE of \", rmse\n",
    "# testing\n",
    "lasso.fit(x_train_std, y_train_log)\n",
    "y_pred_test_lasso = lasso.predict(x_test_std)"
   ]
  },
  {
   "cell_type": "markdown",
   "metadata": {},
   "source": [
    "### Ridge regression\n",
    "Tune regularization parameter (alpha)"
   ]
  },
  {
   "cell_type": "code",
   "execution_count": 9,
   "metadata": {
    "collapsed": false
   },
   "outputs": [
    {
     "name": "stdout",
     "output_type": "stream",
     "text": [
      "The R-squared of the best ridge model is  0.855140293836\n",
      "The best alpha is  100.0\n",
      "The model yield of RMSLE of  0.152647477778\n"
     ]
    }
   ],
   "source": [
    "## Ridge regression\n",
    "# tune lasso regression using the same parameter list\n",
    "model = Ridge_Reg()\n",
    "grid_model = GridSearchCV(model, param_grid = {'alpha': param}, cv  = 5)\n",
    "grid_model.fit(x_train_std, y_train_log)\n",
    "# best model\n",
    "ridge = grid_model.best_estimator_\n",
    "print \"The R-squared of the best ridge model is \", grid_model.best_score_\n",
    "print \"The best alpha is \", ridge.get_params()['alpha']\n",
    "\n",
    "## Prediction\n",
    "# training\n",
    "y_pred_train_ridge = cross_val_predict(ridge, x_train_std, y_train_log, cv = 5)\n",
    "rmse = np.sqrt(np.sum((y_pred_train_ridge - y_train_log)**2)/n)\n",
    "print \"The model yield of RMSLE of \", rmse\n",
    "# testing\n",
    "ridge.fit(x_train_std, y_train_log)\n",
    "y_pred_test_ridge = ridge.predict(x_test_std)"
   ]
  },
  {
   "cell_type": "markdown",
   "metadata": {},
   "source": [
    "### Random Forest Regressor\n",
    "Tune max_depth, n_estimators, min_samples_split and min_samples_leaf"
   ]
  },
  {
   "cell_type": "code",
   "execution_count": 10,
   "metadata": {
    "collapsed": false
   },
   "outputs": [
    {
     "name": "stdout",
     "output_type": "stream",
     "text": [
      "The R-squared of the best RF model is  0.872730048928\n",
      "The best parameters: \n"
     ]
    },
    {
     "data": {
      "text/plain": [
       "{'bootstrap': True,\n",
       " 'criterion': 'mse',\n",
       " 'max_depth': 22,\n",
       " 'max_features': 'auto',\n",
       " 'max_leaf_nodes': None,\n",
       " 'min_impurity_split': 1e-07,\n",
       " 'min_samples_leaf': 2,\n",
       " 'min_samples_split': 3,\n",
       " 'min_weight_fraction_leaf': 0.0,\n",
       " 'n_estimators': 45,\n",
       " 'n_jobs': 1,\n",
       " 'oob_score': False,\n",
       " 'random_state': None,\n",
       " 'verbose': 0,\n",
       " 'warm_start': False}"
      ]
     },
     "execution_count": 10,
     "metadata": {},
     "output_type": "execute_result"
    }
   ],
   "source": [
    "## Random Forest Regressor\n",
    "# parameters\n",
    "max_depth = range(18, 23, 1)\n",
    "n_estimators = range(25, 46, 2)\n",
    "min_samples_split = range(2, 7, 1)\n",
    "min_samples_leaf = range(1, 4, 1)\n",
    "\n",
    "# tune RF regressor\n",
    "model = RandomForestRegressor()\n",
    "grid_model = GridSearchCV(model, param_grid = {'max_depth': max_depth, 'n_estimators': n_estimators, \n",
    "                                               'min_samples_split': min_samples_split, 'min_samples_leaf': min_samples_leaf},\n",
    "                          cv  = 5)\n",
    "grid_model.fit(x_train, y_train_log)\n",
    "# best model\n",
    "RF = grid_model.best_estimator_\n",
    "print \"The R-squared of the best RF model is \", grid_model.best_score_\n",
    "print \"The best parameters: \"\n",
    "RF.get_params()"
   ]
  },
  {
   "cell_type": "code",
   "execution_count": 11,
   "metadata": {
    "collapsed": false
   },
   "outputs": [
    {
     "name": "stdout",
     "output_type": "stream",
     "text": [
      "The model yield of RMSLE of  0.143510279105\n"
     ]
    }
   ],
   "source": [
    "## Prediction\n",
    "# training\n",
    "y_pred_train_RF = cross_val_predict(RF, x_train, y_train_log, cv = 5)\n",
    "rmse = np.sqrt(np.sum((y_pred_train_RF - y_train_log)**2)/n)\n",
    "print \"The model yield of RMSLE of \", rmse\n",
    "# testing\n",
    "RF.fit(x_train, y_train_log)\n",
    "y_pred_test_RF = RF.predict(x_test)"
   ]
  },
  {
   "cell_type": "markdown",
   "metadata": {},
   "source": [
    "### Save the results"
   ]
  },
  {
   "cell_type": "code",
   "execution_count": 12,
   "metadata": {
    "collapsed": true
   },
   "outputs": [],
   "source": [
    "# store the results into dataframes\n",
    "train_results = pd.DataFrame ({\n",
    "        'lasso': y_pred_train_lasso,\n",
    "        'ridge': y_pred_train_ridge,\n",
    "        'RF': y_pred_train_RF\n",
    "})\n",
    "\n",
    "test_results = pd.DataFrame ({\n",
    "        'lasso': y_pred_test_lasso,\n",
    "        'ridge': y_pred_test_ridge,\n",
    "        'RF': y_pred_test_RF\n",
    "})"
   ]
  },
  {
   "cell_type": "code",
   "execution_count": 13,
   "metadata": {
    "collapsed": true
   },
   "outputs": [],
   "source": [
    "# save results in log-scale\n",
    "train_results.to_csv('results/train_results_pca.csv', sep = ',', index=False)\n",
    "test_results.to_csv('results/test_results_pca.csv', sep = ',', index=False)"
   ]
  }
 ],
 "metadata": {
  "kernelspec": {
   "display_name": "Python [Root]",
   "language": "python",
   "name": "Python [Root]"
  },
  "language_info": {
   "codemirror_mode": {
    "name": "ipython",
    "version": 2
   },
   "file_extension": ".py",
   "mimetype": "text/x-python",
   "name": "python",
   "nbconvert_exporter": "python",
   "pygments_lexer": "ipython2",
   "version": "2.7.12"
  }
 },
 "nbformat": 4,
 "nbformat_minor": 0
}
