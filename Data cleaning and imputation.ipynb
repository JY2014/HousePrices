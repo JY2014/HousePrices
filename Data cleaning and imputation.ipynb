{
 "cells": [
  {
   "cell_type": "markdown",
   "metadata": {},
   "source": [
    "## Data Cleaning and Imputation\n",
    "* Drop columns with more than 40% missingness\n",
    "* Impute the other missing values based on the complete columns\n",
    "* Transformation and one-hot-encoding\n",
    "* Cleaned data can be directly feed into models or saved for future use"
   ]
  },
  {
   "cell_type": "code",
   "execution_count": 3,
   "metadata": {
    "collapsed": false
   },
   "outputs": [],
   "source": [
    "import numpy as np\n",
    "import pandas as pd\n",
    "from sklearn import preprocessing\n",
    "from sklearn.cross_validation import train_test_split\n",
    "import matplotlib\n",
    "import matplotlib.pyplot as plt\n",
    "%matplotlib inline\n",
    "from sklearn.linear_model import LogisticRegression\n",
    "from sklearn.linear_model import LinearRegression\n",
    "from sklearn.linear_model import Ridge as Ridge_Reg\n",
    "from sklearn.linear_model import Lasso as Lasso_Reg\n",
    "import warnings\n",
    "warnings.filterwarnings(\"ignore\")"
   ]
  },
  {
   "cell_type": "code",
   "execution_count": 4,
   "metadata": {
    "collapsed": true
   },
   "outputs": [],
   "source": [
    "### import training and testing data\n",
    "train = pd.read_csv('data/train.csv')\n",
    "test = pd.read_csv('data/test.csv')\n",
    "n1,n2 = train.shape"
   ]
  },
  {
   "cell_type": "markdown",
   "metadata": {},
   "source": [
    "### Exploring missing values\n",
    "Explore missingness of each predictor on the training data"
   ]
  },
  {
   "cell_type": "code",
   "execution_count": 52,
   "metadata": {
    "collapsed": false
   },
   "outputs": [
    {
     "data": {
      "image/png": "[encoded data removed]",
      "text/plain": [
       "<matplotlib.figure.Figure at 0xc9ba940>"
      ]
     },
     "metadata": {},
     "output_type": "display_data"
    }
   ],
   "source": [
    "### remove certain columns\n",
    "# remove SalePrice (response variable) from training data\n",
    "train_dropped = train.drop(\"SalePrice\", axis = 1)\n",
    "# drop Utilities because it has only one value\n",
    "train_dropped = train_dropped.drop('Utilities', axis = 1)\n",
    "test_dropped = test.drop('Utilities', axis = 1)\n",
    "\n",
    "### check missing data in each variable\n",
    "# store number of missing values \n",
    "missing_num_train = train_dropped.isnull().sum()\n",
    "# find columns with missingness\n",
    "missing_column_train_index = (missing_num_train != 0)\n",
    "missing_column_train_names = train_dropped.columns[missing_column_train_index]\n",
    "missing_percent = missing_num_train[missing_column_train_index]/n1\n",
    "\n",
    "# plot the missingness\n",
    "missing_percent.sort(ascending=False)\n",
    "# bar plot\n",
    "bar = [i*1 for i in range(len(missing_percent))] \n",
    "bar_width = 0.8\n",
    "\n",
    "fig = plt.figure(figsize = (10, 5))\n",
    "ax1 = fig.add_subplot(111)\n",
    "ax1.bar(bar, missing_percent, width=bar_width, color = 'steelblue')\n",
    "# add names\n",
    "tickers = [i+0.2*(bar_width) for i in bar] \n",
    "plt.xticks(tickers, missing_percent.index.values, rotation = 60)\n",
    "\n",
    "plt.tight_layout()\n",
    "plt.show()"
   ]
  },
  {
   "cell_type": "code",
   "execution_count": 53,
   "metadata": {
    "collapsed": true
   },
   "outputs": [],
   "source": [
    "# drop columns with more than 40% missingness\n",
    "dropped_columns = train_dropped.columns[missing_num_train >= 0.4 * n1]\n",
    "train_dropped = train_dropped.drop(dropped_columns, axis = 1)\n",
    "test_dropped = test_dropped.drop(dropped_columns, axis = 1)"
   ]
  },
  {
   "cell_type": "markdown",
   "metadata": {},
   "source": [
    "Explore missingness in testing set:\n",
    "* Explore the number of missingness in each variable in the testing set (columns with more than 40% missingness have been dropped);\n",
    "* Combine missing columns in both training and testing sets for imputation"
   ]
  },
  {
   "cell_type": "code",
   "execution_count": 55,
   "metadata": {
    "collapsed": false
   },
   "outputs": [],
   "source": [
    "# columns with missingness in testing set\n",
    "missing_num_test = test_dropped.isnull().sum()\n",
    "missing_column_test_index = (missing_num_test != 0)\n",
    "missing_column_test_names = test_dropped.columns[missing_column_test_index]\n",
    "\n",
    "## Combine columns with missing values from both training and testing sets\n",
    "missing_column_names = set().union(missing_column_test_names, \n",
    "missing_column_train_names)"
   ]
  },
  {
   "cell_type": "markdown",
   "metadata": {},
   "source": [
    "Determine categorical or quantitative predictors of the remaining columns:\n",
    "* variables with less than 15 values are set to be categorical\n",
    "* non-numerical values also indicate categorical variables"
   ]
  },
  {
   "cell_type": "code",
   "execution_count": 57,
   "metadata": {
    "collapsed": true
   },
   "outputs": [],
   "source": [
    "### extract variables with less than 15 values and non-numerical values\n",
    "value_num = [] #store number of unique values in each column\n",
    "non_numerical_names = [] #non-numerical column names\n",
    "\n",
    "for name in train_dropped.columns:\n",
    "    # number of unique values in each column\n",
    "    value_num.append(len(train_dropped[name].unique()))\n",
    "    # check if the first value is numerical\n",
    "    if not (train_dropped[name].dtype == np.dtype('int64') or \n",
    "    train_dropped[name].dtype == np.dtype('float64')):\n",
    "        non_numerical_names.append(name)\n",
    "# extract columns with less than 15 values       \n",
    "value_num = np.asarray(value_num)\n",
    "categorical_names = train_dropped.columns[value_num <= 15]\n",
    "\n",
    "# the categorial predictors are the union of the two lists\n",
    "categorical_final = list(set().union(list(categorical_names), non_numerical_names))\n",
    "\n",
    "### Check which variables with missing values are categorical\n",
    "# it is the intersect of categorical_final and missing_column_names\n",
    "missing_cat_names = list(set(missing_column_names) & set(categorical_final))\n",
    "# the rest are quantitative\n",
    "missing_quant_names = list(set(missing_column_names)-set(missing_cat_names)\n",
    "-set(dropped_columns))"
   ]
  },
  {
   "cell_type": "markdown",
   "metadata": {},
   "source": [
    "### Imputation\n",
    "Using variables without missing values as training set to impute missing values\n",
    "\n",
    "* Categorical variables: regularized logistic\n",
    "* Quantitative variables: try lasso and Ridge \n",
    "\n",
    "(tune the parameters and use the best model to impute missing values)"
   ]
  },
  {
   "cell_type": "code",
   "execution_count": 58,
   "metadata": {
    "collapsed": false
   },
   "outputs": [
    {
     "name": "stdout",
     "output_type": "stream",
     "text": [
      "Dimension of the complete data:  (2919, 46)\n"
     ]
    }
   ],
   "source": [
    "### training data for imputation \n",
    "# extract training data without missing values to use for imputation\n",
    "complete_column_names = list(set(train_dropped.columns)\n",
    "-set(missing_column_names))\n",
    "complete_train = train_dropped[complete_column_names]\n",
    "complete_test = test_dropped[complete_column_names]\n",
    "# need to combine the complete data from training and testing sets\n",
    "complete_data = pd.concat((complete_train,complete_test))\n",
    "print \"Dimension of the complete data: \", complete_data.shape\n",
    "# turn quant variables into float numbers\n",
    "quant_complete_names = list(set(complete_data.columns)-set(categorical_final))\n",
    "for name in quant_complete_names:\n",
    "    complete_data[name] = complete_data[name].astype(float)\n",
    "# one-hot_encode the categorical columns\n",
    "cat_complete_names = list(set(complete_train.columns)-set(quant_complete_names))\n",
    "dummies = pd.get_dummies(complete_data[cat_complete_names])\n",
    "# combine the cat and quant columns\n",
    "data_for_impute = pd.concat([complete_data[quant_complete_names],\n",
    "                              dummies], axis = 1)\n",
    "# separate the training and testing data from data_for_impute\n",
    "train_for_impute = data_for_impute.iloc[:n1]\n",
    "test_for_impute = data_for_impute.iloc[n1:]"
   ]
  },
  {
   "cell_type": "code",
   "execution_count": 59,
   "metadata": {
    "collapsed": true
   },
   "outputs": [],
   "source": [
    "### function to impute missing values for each column\n",
    "## input 1: complete columns from training set\n",
    "## input 2: complete columns from testing set\n",
    "## input 3: column to impute in training data as a Pandas Series\n",
    "## input 4: column to impute in testing data as a Pandas Series\n",
    "## input 5: variable type: 1 = categorical; 2 = quantitative\n",
    "#\n",
    "## output: training and testing columns with missing data filled\n",
    "def data_impute(train_complete, test_complete, train_impute, test_impute,\n",
    "               variable_type):\n",
    "    index1 = train_impute.isnull()\n",
    "    index2 = test_impute.isnull()\n",
    "    # response variable\n",
    "    y_complete = np.concatenate((train_impute[index1 == False].values,\n",
    "                              test_impute[index2 == False].values))\n",
    "    y_train = train_impute[index1 == True].values\n",
    "    y_test = test_impute[index2 == True].values\n",
    "    # predictors\n",
    "    x_complete = np.concatenate((train_complete[index1 == False].values,\n",
    "                              test_complete[index2 == False].values), axis = 0)\n",
    "    x_train = train_for_impute[index1 == True].values\n",
    "    x_test = test_for_impute[index2 == True].values\n",
    "    \n",
    "    # categorical\n",
    "    if variable_type == 1:\n",
    "        # tune logistic regression model\n",
    "        param, score = tune_logistic(x_complete, y_complete)\n",
    "        print \"The best param is {} with accuracy of {}.\".format(param, score)\n",
    "        # imputation\n",
    "        model = LogisticRegression(C = param)\n",
    "        model.fit(x_complete, y_complete)\n",
    "    \n",
    "    # quantitative\n",
    "    elif variable_type == 2:\n",
    "        # tune ridge or lasso regression\n",
    "        penalty, param, score = tune_ridge_lasso(x_complete, y_complete)\n",
    "        print \"The penalty is L{} with best param of {} and accuracy of {}.\".format(\n",
    "        penalty, param, score)\n",
    "        # imputation\n",
    "        if penalty == 1:\n",
    "            model = Lasso_Reg(alpha = param)\n",
    "        elif penalty == 2:\n",
    "            model = Ridge_Reg(alpha = param)\n",
    "        model.fit(x_complete, y_complete)\n",
    "    \n",
    "    # impute the missing data \n",
    "    if y_train.shape[0] > 0:\n",
    "        y1 = model.predict(x_train)\n",
    "        train_impute[index1 == True] = y1\n",
    "    if y_test.shape[0] > 0:\n",
    "        y2 = model.predict(x_test)\n",
    "        test_impute[index2 == True] = y2\n",
    "    \n",
    "    return train_impute, test_impute\n",
    " \n",
    "### function to tune regularization parameter for logistic regression\n",
    "## input: predictors x and response y\n",
    "## output: best parameter and accuracy\n",
    "## selection based on classification accuracy\n",
    "def tune_logistic(x, y):\n",
    "    #shuffe the data\n",
    "    perm = range(y.shape[0])\n",
    "    np.random.shuffle(perm)\n",
    "    x = x[perm]\n",
    "    y = y[perm]\n",
    "    # split train and test sets (7:3)\n",
    "    [x_train, x_test, y_train, y_test] = train_test_split(x, y, train_size=0.7)\n",
    "    # set of paramters to test\n",
    "    param_list = np.power(0.1, np.arange(-4, 4))\n",
    "    # tune the model\n",
    "    best_param = 0\n",
    "    best_score = 0\n",
    "    \n",
    "    for param in param_list:\n",
    "        log = LogisticRegression(C = param)\n",
    "        log.fit(x_train, y_train)\n",
    "        score = log.score(x_test, y_test)\n",
    "        # update\n",
    "        if score > best_score:\n",
    "            best_score = score\n",
    "            best_param = param\n",
    "    \n",
    "    return best_param, best_score\n",
    "    \n",
    "### function to tune ridge or lasso regression\n",
    "## input: predictors x and response y\n",
    "## output: penalty type (1: lasso, 2: ridge), best parameter and accuracy\n",
    "## selection based on R^2\n",
    "def tune_ridge_lasso(x, y):\n",
    "    #shuffe the data\n",
    "    perm = range(y.shape[0])\n",
    "    np.random.shuffle(perm)\n",
    "    x = x[perm]\n",
    "    y = y[perm]\n",
    "    # split train and test sets (7:3)\n",
    "    [x_train, x_test, y_train, y_test] = train_test_split(x, y, train_size=0.7)\n",
    "    # set of paramters to test\n",
    "    param_list = np.power(0.1, np.arange(-7, 7))\n",
    "    \n",
    "    # tune the model\n",
    "    best_param = 0\n",
    "    best_score = 0\n",
    "    best_penalty = 0\n",
    "    \n",
    "    for param in param_list:\n",
    "        ridge = Ridge_Reg(alpha = param)\n",
    "        ridge.fit(x_train, y_train)\n",
    "        score1 = ridge.score(x_test, y_test)\n",
    "        \n",
    "        lasso = Lasso_Reg(alpha = param)\n",
    "        lasso.fit(x_train, y_train)\n",
    "        score2 = lasso.score(x_test, y_test)\n",
    "    # compare between the two scores first\n",
    "        if score1 > score2:\n",
    "            penalty = 2\n",
    "            score = score1\n",
    "        else:\n",
    "            penalty = 1\n",
    "            score = score2\n",
    "        # update\n",
    "        if score > best_score:\n",
    "            best_score = score\n",
    "            best_param = param\n",
    "            best_penalty = penalty\n",
    "        \n",
    "        return best_penalty, best_param, best_score"
   ]
  },
  {
   "cell_type": "code",
   "execution_count": 60,
   "metadata": {
    "collapsed": false
   },
   "outputs": [
    {
     "name": "stdout",
     "output_type": "stream",
     "text": [
      "CATEGORICAL:\n",
      "MasVnrType\n",
      "The best param is 10.0 with accuracy of 0.715765247411.\n",
      "GarageType\n",
      "The best param is 10.0 with accuracy of 0.784077201448.\n",
      "BsmtFullBath\n",
      "The best param is 0.1 with accuracy of 0.694063926941.\n",
      "GarageQual\n",
      "The best param is 0.001 with accuracy of 0.946924004825.\n",
      "Exterior1st\n",
      "The best param is 1.0 with accuracy of 0.520547945205.\n",
      "GarageFinish\n",
      "The best param is 10.0 with accuracy of 0.669481302774.\n",
      "MSZoning\n",
      "The best param is 1000.0 with accuracy of 0.932571428571.\n",
      "Exterior2nd\n",
      "The best param is 1.0 with accuracy of 0.522831050228.\n",
      "BsmtCond\n",
      "The best param is 100.0 with accuracy of 0.924882629108.\n",
      "BsmtFinType2\n",
      "The best param is 1.0 with accuracy of 0.87323943662.\n",
      "BsmtHalfBath\n",
      "The best param is 0.001 with accuracy of 0.938356164384.\n",
      "Electrical\n",
      "The best param is 0.01 with accuracy of 0.91095890411.\n",
      "KitchenQual\n",
      "The best param is 0.1 with accuracy of 0.815068493151.\n",
      "BsmtQual\n",
      "The best param is 10.0 with accuracy of 0.830985915493.\n",
      "GarageCars\n",
      "The best param is 10000.0 with accuracy of 0.738584474886.\n",
      "BsmtExposure\n",
      "The best param is 1.0 with accuracy of 0.714788732394.\n",
      "BsmtFinType1\n",
      "The best param is 0.1 with accuracy of 0.499413833529.\n",
      "Functional\n",
      "The best param is 0.001 with accuracy of 0.918949771689.\n",
      "SaleType\n",
      "The best param is 0.1 with accuracy of 0.934931506849.\n",
      "GarageCond\n",
      "The best param is 0.001 with accuracy of 0.957780458384.\n",
      "QUANTITATIVE:\n",
      "MasVnrArea\n",
      "The penalty is L2 with best param of 10000000.0 and accuracy of 0.201089622747.\n",
      "BsmtUnfSF\n",
      "The penalty is L2 with best param of 10000000.0 and accuracy of 0.130260605741.\n",
      "LotFrontage\n",
      "The penalty is L2 with best param of 10000000.0 and accuracy of 0.220575587167.\n",
      "GarageYrBlt\n",
      "The penalty is L2 with best param of 10000000.0 and accuracy of 0.367284757489.\n",
      "TotalBsmtSF\n",
      "The penalty is L2 with best param of 10000000.0 and accuracy of 0.653355681257.\n",
      "GarageArea\n",
      "The penalty is L2 with best param of 10000000.0 and accuracy of 0.369089312038.\n",
      "BsmtFinSF1\n",
      "The penalty is L2 with best param of 10000000.0 and accuracy of 0.167068941775.\n",
      "BsmtFinSF2\n",
      "The penalty is L2 with best param of 10000000.0 and accuracy of 0.0204877709419.\n"
     ]
    }
   ],
   "source": [
    "### impute missing values for categorical variables\n",
    "print \"CATEGORICAL:\"\n",
    "for name in missing_cat_names:\n",
    "    print name\n",
    "    train_dropped[name], test_dropped[name] = data_impute(\n",
    "    train_for_impute,test_for_impute, train_dropped[name], test_dropped[name],1)\n",
    "    \n",
    "### impute missing values for categorical variables\n",
    "print \"QUANTITATIVE:\"\n",
    "for name in missing_quant_names:\n",
    "    print name\n",
    "    train_dropped[name], test_dropped[name] = data_impute(\n",
    "    train_for_impute,test_for_impute, train_dropped[name], test_dropped[name],2)"
   ]
  },
  {
   "cell_type": "markdown",
   "metadata": {},
   "source": [
    "Most categorical variables have high accuracy rate. A few with around 0.5 accuracy are similar as random imputation. \n",
    "\n",
    "Most quantitative variables have relatively low R^2 on the imputation, but it is more accurate than directly assigning average values. "
   ]
  },
  {
   "cell_type": "markdown",
   "metadata": {},
   "source": [
    "### Transformation and one-hot encoding\n",
    "* log-transform response variable\n",
    "* transform quantitative predictors"
   ]
  },
  {
   "cell_type": "code",
   "execution_count": 94,
   "metadata": {
    "collapsed": true
   },
   "outputs": [],
   "source": [
    "# combine train and test predictors for one-hot encoding (in order to include all classes)\n",
    "predictors = pd.concat((train_dropped, test_dropped))\n",
    "# one-hot_encode the categorical columns\n",
    "dummies = pd.get_dummies(predictors[categorical_final])\n",
    "# combine the cat and quant columns\n",
    "quant_names = list(set(train_dropped.columns)-set(categorical_final))\n",
    "predictors_expanded = pd.concat([predictors[quant_names],dummies], axis = 1)"
   ]
  },
  {
   "cell_type": "code",
   "execution_count": 67,
   "metadata": {
    "collapsed": false
   },
   "outputs": [
    {
     "data": {
      "image/png": "[encoded data removed]",
      "text/plain": [
       "<matplotlib.figure.Figure at 0x129eab38>"
      ]
     },
     "metadata": {},
     "output_type": "display_data"
    }
   ],
   "source": [
    "### Log transformation on SalePrice --> normal dist\n",
    "# the response variable for the training set\n",
    "y_train = train['SalePrice'].values\n",
    "\n",
    "### check distribution of SalePrice\n",
    "fig = plt.figure(figsize = (12, 5))\n",
    "# original\n",
    "ax1 = fig.add_subplot(121)\n",
    "ax1.hist(y_train, color = 'steelblue')\n",
    "# log transformation\n",
    "ax2 = ax1 = fig.add_subplot(122)\n",
    "ax2.hist(np.log(y_train), color = 'steelblue')\n",
    "\n",
    "y_train_log = np.log(y_train)"
   ]
  },
  {
   "cell_type": "markdown",
   "metadata": {},
   "source": [
    "Check relationship between response variable with each quantitative variable.\n",
    "\n",
    "Transformation quantitative variables:\n",
    "1. add a binary variable to indicate non-zero values if there are zero-values (indicating subgroups)\n",
    "2. log transform if highly right skewed"
   ]
  },
  {
   "cell_type": "code",
   "execution_count": 98,
   "metadata": {
    "collapsed": false
   },
   "outputs": [
    {
     "data": {
      "image/png": "[encoded data removed]",
      "text/plain": [
       "<matplotlib.figure.Figure at 0x12459400>"
      ]
     },
     "metadata": {},
     "output_type": "display_data"
    }
   ],
   "source": [
    "# # check relationship between response and each quant predictor\n",
    "# for name in quant_names:\n",
    "#     print name\n",
    "#     fig = plt.figure(figsize = (5, 5))\n",
    "#     ax1 = fig.add_subplot(111)\n",
    "#     ax1.scatter(predictors_expanded[name].values[:n1, ],y_train_log)\n",
    "\n",
    "### show a few representative ones\n",
    "var_list = [0, 5, 3]\n",
    "\n",
    "fig, ax = plt.subplots(1, 3, figsize=(20, 5))\n",
    "\n",
    "for i in range(len(var_list)):\n",
    "    name =  quant_names[var_list[i]]\n",
    "    ax[i].scatter(predictors_expanded[name].values[:n1, ],y_train_log) \n",
    "    ax[i].set_title(name)"
   ]
  },
  {
   "cell_type": "markdown",
   "metadata": {},
   "source": [
    "The first plot shows a variable with most values as zero and a few non-zero values. It indicates two subgroups. Therefore, a binary variable will be created to indicate the non-zero values.\n",
    "\n",
    "The middle plot represents variables with zero-values and the non-zero values are highly right skewed. The non-zero values will be log-transformed.\n",
    "\n",
    "The last plot shows a variable that has no zero values but highly right-skewed. The values will be log-tranformed. "
   ]
  },
  {
   "cell_type": "code",
   "execution_count": 83,
   "metadata": {
    "collapsed": true
   },
   "outputs": [],
   "source": [
    "# add binary variable to indicate non-zero values\n",
    "add_binary_index = [0, 1, 2, 5, 6, 10, 11, 12, 13, 16, 17, 18, 19, 20]\n",
    "\n",
    "for i in add_binary_index:\n",
    "    name = quant_names[i]\n",
    "    # add a binary column\n",
    "    binary_col = np.copy(predictors_expanded[name].values)\n",
    "    binary_col[binary_col > 0] = 1\n",
    "    # combine to the predictor dataframe\n",
    "    predictors_expanded[name+'-binary'] = binary_col\n",
    "    \n",
    "# log-transform skewed quant predictors\n",
    "log_transform_index = [0, 1, 3, 4, 5, 6, 9, 10, 12, 17]\n",
    "\n",
    "for i in log_transform_index:\n",
    "    name = quant_names[i]\n",
    "    # log transform\n",
    "    predictors_expanded[name] = np.log(predictors_expanded[name].values+0.001)"
   ]
  },
  {
   "cell_type": "code",
   "execution_count": 84,
   "metadata": {
    "collapsed": true
   },
   "outputs": [],
   "source": [
    "# split into training and testing predictors\n",
    "x_train = predictors_expanded.values[:n1, ]\n",
    "x_test = predictors_expanded.values[n1:, ]"
   ]
  },
  {
   "cell_type": "code",
   "execution_count": 91,
   "metadata": {
    "collapsed": false
   },
   "outputs": [],
   "source": [
    "# save predictors and response variable for future use\n",
    "np.savetxt('data/x_train_cleaned.txt', x_train, fmt='%.18e', delimiter=',')\n",
    "np.savetxt('data/x_test_cleaned.txt', x_test, fmt='%.18e', delimiter=',')\n",
    "np.savetxt('data/y_train_log.txt', y_train_log, fmt='%.18e', delimiter=',')"
   ]
  },
  {
   "cell_type": "markdown",
   "metadata": {},
   "source": [
    "### Prediction\n",
    "x_train, x_test and y_train_log can be used to build models and perform prediction. Here a simple lasso model is shown as an example. "
   ]
  },
  {
   "cell_type": "code",
   "execution_count": 88,
   "metadata": {
    "collapsed": true
   },
   "outputs": [],
   "source": [
    "lasso =  Lasso_Reg (alpha = 0.01)\n",
    "lasso.fit(x_train, y_train_log)\n",
    "y_pred = lasso.predict(x_test)\n",
    "\n",
    "# convert to original scale and save\n",
    "submission = pd.read_csv('sample_submission.csv')\n",
    "submission['SalePrice'] = np.exp(y_pred)\n",
    "submission.to_csv('result.csv', sep = ',', index=False)"
   ]
  }
 ],
 "metadata": {
  "anaconda-cloud": {},
  "kernelspec": {
   "display_name": "Python [Root]",
   "language": "python",
   "name": "Python [Root]"
  },
  "language_info": {
   "codemirror_mode": {
    "name": "ipython",
    "version": 2
   },
   "file_extension": ".py",
   "mimetype": "text/x-python",
   "name": "python",
   "nbconvert_exporter": "python",
   "pygments_lexer": "ipython2",
   "version": "2.7.12"
  }
 },
 "nbformat": 4,
 "nbformat_minor": 0
}
